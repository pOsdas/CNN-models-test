{
 "cells": [
  {
   "cell_type": "code",
   "execution_count": null,
   "outputs": [],
   "source": [
    "!pip install ultralytics\n",
    "!pip install pycocotools"
   ],
   "metadata": {
    "collapsed": false
   },
   "id": "2b4cd0a3bbcf0704"
  },
  {
   "cell_type": "code",
   "execution_count": null,
   "id": "initial_id",
   "metadata": {
    "collapsed": true
   },
   "outputs": [],
   "source": [
    "from ultralytics import YOLO\n",
    "import torch\n",
    "\n",
    "# ======== Список моделей YOLOv5–YOLOv11 ========\n",
    "yolo_versions = {\n",
    "    \"YOLOv5s\": \"../model/yolov5su.pt\",\n",
    "    # YOLOv6-v7 игнорируем из-за плохого API\n",
    "    \"YOLOv8s\": \"../model/yolov8s.pt\",\n",
    "    \"YOLOv9s\": \"../model/yolov9s.pt\",\n",
    "    \"YOLOv10s\": \"../model/yolov10s.pt\",\n",
    "    \"YOLOv11s\": \"../model/yolo11s.pt\"\n",
    "}\n",
    "\n",
    "# Конфигурация тестовых данных\n",
    "data_config = '../coco.yaml'  \n",
    "\n",
    "for model_name, model_path in yolo_versions.items():\n",
    "    print(f\"\\n====== Валидация модели: {model_name} ======\\n\")\n",
    "\n",
    "    model = YOLO(model_path)\n",
    "\n",
    "    # Запуск валидации\n",
    "    metrics = model.val(\n",
    "        data=data_config,\n",
    "        split='val',    # Используем validation set\n",
    "        imgsz=640,      # Размер изображения\n",
    "        batch=16,       # Размер батча\n",
    "        conf=0.5,       # Порог уверенности\n",
    "        iou=0.6,        # IoU threshold\n",
    "        device='cuda' if torch.cuda.is_available() else 'cpu',\n",
    "        verbose=True\n",
    "    )\n",
    "\n",
    "    # Вывод основных метрик\n",
    "    print(\"\\nРезультаты точности:\")\n",
    "    print(f\"mAP@0.5:       {metrics.box.map * 100:.2f}%\")\n",
    "    print(f\"mAP@0.5-0.95: {metrics.box.map50_95 * 100:.2f}%\")\n",
    "    print(f\"Точность (precision): {metrics.box.precision * 100:.2f}%\")\n",
    "    print(f\"Полнота (recall):    {metrics.box.recall * 100:.2f}%\")"
   ]
  },
  {
   "cell_type": "markdown",
   "source": [],
   "metadata": {
    "collapsed": false
   },
   "id": "29ff348e85f0983b"
  }
 ],
 "metadata": {
  "kernelspec": {
   "display_name": "Python 3",
   "language": "python",
   "name": "python3"
  },
  "language_info": {
   "codemirror_mode": {
    "name": "ipython",
    "version": 2
   },
   "file_extension": ".py",
   "mimetype": "text/x-python",
   "name": "python",
   "nbconvert_exporter": "python",
   "pygments_lexer": "ipython2",
   "version": "2.7.6"
  }
 },
 "nbformat": 4,
 "nbformat_minor": 5
}
