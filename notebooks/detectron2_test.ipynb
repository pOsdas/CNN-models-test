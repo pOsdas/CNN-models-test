{
 "nbformat": 4,
 "nbformat_minor": 0,
 "metadata": {
  "colab": {
   "provenance": [],
   "gpuType": "T4",
   "mount_file_id": "1b0RilRdvdiOu-xDgEzjYAB2hc-bNrVqG",
   "authorship_tag": "ABX9TyPAHziF0XpsuABiuWz37Ofu"
  },
  "kernelspec": {
   "name": "python3",
   "display_name": "Python 3"
  },
  "language_info": {
   "name": "python"
  },
  "accelerator": "GPU"
 },
 "cells": [
  {
   "cell_type": "code",
   "source": [
    "!pip install 'git+https://github.com/facebookresearch/detectron2.git'"
   ],
   "metadata": {
    "collapsed": true,
    "id": "KZphlF-U1KIi"
   },
   "execution_count": null,
   "outputs": []
  },
  {
   "cell_type": "code",
   "source": [
    "# Проверяем доступна ди GPU\n",
    "!nvidia-smi  # Должна появиться таблица с информацией о GPU"
   ],
   "metadata": {
    "id": "axHH8ZLMedSB"
   },
   "execution_count": 12,
   "outputs": []
  },
  {
   "cell_type": "code",
   "source": [
    "# Проверяем доступна ди GPU\n",
    "import torch\n",
    "print(torch.cuda.is_available())"
   ],
   "metadata": {
    "id": "BcVmud4OVE0b"
   },
   "execution_count": null,
   "outputs": []
  },
  {
   "cell_type": "code",
   "source": [
    "import pandas as pd\n",
    "import time\n",
    "import torch\n",
    "from detectron2 import model_zoo\n",
    "from detectron2.config import get_cfg\n",
    "from detectron2.data.datasets import register_coco_instances\n",
    "from detectron2.data import DatasetCatalog, build_detection_test_loader\n",
    "from detectron2.engine import DefaultPredictor\n",
    "from detectron2.evaluation import COCOEvaluator, inference_on_dataset\n",
    "\n",
    "# 1. Регистрация COCO-val\n",
    "dataset_name = \"coco_val\"\n",
    "json_ann = \"annotations/instances_val2017.json\"\n",
    "image_root = \"val2017/\"\n",
    "register_coco_instances(dataset_name, {}, json_ann, image_root)\n",
    "\n",
    "# 2. Настройка Detectron2\n",
    "cfg = get_cfg()\n",
    "cfg.merge_from_file(model_zoo.get_config_file(\"COCO-InstanceSegmentation/mask_rcnn_R_50_FPN_3x.yaml\"))\n",
    "cfg.MODEL.WEIGHTS = model_zoo.get_checkpoint_url(\"COCO-InstanceSegmentation/mask_rcnn_R_50_FPN_3x.yaml\")\n",
    "cfg.MODEL.ROI_HEADS.SCORE_THRESH_TEST = 0.5\n",
    "cfg.MODEL.DEVICE = \"cuda\" if torch.cuda.is_available() else \"cpu\"\n",
    "predictor = DefaultPredictor(cfg)\n",
    "\n",
    "# 3. Создание evaluator и loader\n",
    "evaluator = COCOEvaluator(dataset_name, cfg, False, output_dir=\"./coco_eval\")\n",
    "val_loader = build_detection_test_loader(cfg, dataset_name)\n",
    "\n",
    "# 4. Измерение времени инференса и сбор метрик\n",
    "num_images = len(DatasetCatalog.get(dataset_name))\n",
    "start_time = time.time()\n",
    "metrics_dict = inference_on_dataset(predictor.model, val_loader, evaluator)\n",
    "elapsed = time.time() - start_time\n",
    "fps = num_images / elapsed\n",
    "\n",
    "# 5. Выбор нужных метрик\n",
    "bbox = metrics_dict[\"bbox\"]\n",
    "results = {\n",
    "    \"mAP@[.50:.95]\": bbox[\"AP\"],\n",
    "    \"mAP@.50\": bbox[\"AP50\"],\n",
    "    \"mAP@.75\": bbox[\"AP75\"],\n",
    "    \"AP@.50\": bbox[\"AP50\"],\n",
    "    \"AP@.75\": bbox[\"AP75\"],\n",
    "    \"AR@100\": bbox.get(\"AR@100\", None),\n",
    "    \"Precision≈AP50\": bbox[\"AP50\"],\n",
    "    \"Recall≈AR@100\": bbox.get(\"AR@100\", None),\n",
    "    \"FPS\": round(fps, 2)\n",
    "}\n",
    "\n",
    "# 6. Печать и таблица\n",
    "df = pd.DataFrame([results])\n",
    "print(df.to_markdown(index=False))"
   ],
   "metadata": {
    "id": "-b8eUEkJ3Swq"
   },
   "execution_count": null,
   "outputs": []
  }
 ]
}
